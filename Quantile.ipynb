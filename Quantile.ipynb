{
 "cells": [
  {
   "cell_type": "code",
   "execution_count": 8,
   "metadata": {
    "ExecuteTime": {
     "end_time": "2019-08-05T07:47:36.412335Z",
     "start_time": "2019-08-05T07:47:36.394127Z"
    }
   },
   "outputs": [],
   "source": [
    "import numpy as np\n",
    "import statsmodels.api as sm\n",
    "import pylab\n",
    "import random"
   ]
  },
  {
   "cell_type": "code",
   "execution_count": 9,
   "metadata": {
    "ExecuteTime": {
     "end_time": "2019-08-05T07:47:37.092473Z",
     "start_time": "2019-08-05T07:47:37.087289Z"
    }
   },
   "outputs": [],
   "source": [
    "test = np.random.normal (20,5, 1000)\n"
   ]
  },
  {
   "cell_type": "code",
   "execution_count": 10,
   "metadata": {
    "ExecuteTime": {
     "end_time": "2019-08-05T07:47:37.886644Z",
     "start_time": "2019-08-05T07:47:37.615886Z"
    }
   },
   "outputs": [
    {
     "data": {
      "image/png": "[encoded data removed]",
      "text/plain": [
       "<Figure size 432x288 with 1 Axes>"
      ]
     },
     "metadata": {
      "needs_background": "light"
     },
     "output_type": "display_data"
    }
   ],
   "source": [
    "sm.qqplot(test,loc = 20, scale =5, line ='45')\n",
    "pylab.show()"
   ]
  },
  {
   "cell_type": "markdown",
   "metadata": {},
   "source": [
    "## Explain why the points don’t lie on the line y=x \n",
    "Above grapical diagram is of Q-Q plot. \n",
    "The points in the Q-Q plot does not form a straight line since the quantiles of the dataset does not match what the quantiles of the dataset would theoretically be if the dataset was normally distributed.\n",
    "Q-Q plot is used to check if two sets of data comes from same population distribution. For example, if we run a statistical analysis that assumes our dependent variable is Normally distributed, we can use a Normal Q-Q plot to check that assumption. In qq plot,  a 45-degree refrence line is plotted (red line in above figure). If two sets of data come from same population, they tends to fall along the refrence line. In above example, qq plot from statsmodel is used. test data is generated from normal distribution \n",
    "with mean 20 and standard deviation of 5 which is compated aganist 'dist'. The default is scipy.stats.distributions.norm (a standard normal). loc and scale parameter are Location parameter and Scale parameter of dist respectively. Looking at blue data points, some points are not along same line, which means they might be outlier due to random generation of data.\n"
   ]
  },
  {
   "cell_type": "code",
   "execution_count": null,
   "metadata": {},
   "outputs": [],
   "source": []
  },
  {
   "cell_type": "markdown",
   "metadata": {},
   "source": [
    "#### Explain in your own words what is standard error of the mean (refer to the respective page here). \n",
    "Standard error of the mean (SEM) also known as standard deviation of mean is the standard deviation of sampling distribution of mean. This is descriptive statistic. SEM shows accuracy of the estimate and how the mean is likely to be.Confidence interval and SEM serves similiar purpose, to estiamte the reliability of estimate of mean.\n",
    "It can be seen from the formula below that the standard error of the mean decreases as N increases. This is expected because if the mean at each step is calculated using many data points, then a small deviation in one value will cause less effect on the final mean.\n",
    "Formula can be given as:\n",
    "Standard Error of the Mean\n",
    "\n",
    "$$\\sigma_M = \\frac{\\sigma}{\\sqrt{N}}$$ \n",
    "\n",
    "$\\sigma_M$ = the standard deviation of the original distribution \n",
    "\n",
    "$N$ = the sample size\n",
    "\n",
    "${\\sqrt{N}}$ = root of the sample size"
   ]
  },
  {
   "cell_type": "markdown",
   "metadata": {},
   "source": [
    "### Also simulate SEM example using NumPy. \n",
    "######  I'll leave it up to you how to present it, but the concept of SEM should clearly come out from the simulation. "
   ]
  },
  {
   "cell_type": "code",
   "execution_count": null,
   "metadata": {},
   "outputs": [],
   "source": []
  },
  {
   "cell_type": "code",
   "execution_count": 11,
   "metadata": {
    "ExecuteTime": {
     "end_time": "2019-08-05T07:47:48.764151Z",
     "start_time": "2019-08-05T07:47:48.759977Z"
    }
   },
   "outputs": [],
   "source": [
    "# Lets generate random population with true mean of  3.\n",
    "data = list(np.random.normal(3,1, 30))\n",
    "\n"
   ]
  },
  {
   "cell_type": "code",
   "execution_count": 12,
   "metadata": {
    "ExecuteTime": {
     "end_time": "2019-08-05T07:47:49.532246Z",
     "start_time": "2019-08-05T07:47:49.521995Z"
    }
   },
   "outputs": [
    {
     "data": {
      "text/plain": [
       "[2.572963545001721,\n",
       " 2.323592870613104,\n",
       " 2.82472627529006,\n",
       " 2.943616138123051,\n",
       " 3.2392482696176494,\n",
       " 2.468451835082696,\n",
       " 1.8768246969534594,\n",
       " 2.5893112143083874,\n",
       " 2.5246772498357792,\n",
       " 2.999260710932058]"
      ]
     },
     "execution_count": 12,
     "metadata": {},
     "output_type": "execute_result"
    }
   ],
   "source": [
    "## Let take random 10 random samples with size of 8 from above generated data and calulate the mean of those sampls\n",
    "sample_mean = []\n",
    "for i in range (10):\n",
    "    random_one = random.sample(data, 5)\n",
    "    sample_mean.append(np.array(random_one).mean())\n",
    "    \n",
    "sample_mean"
   ]
  },
  {
   "cell_type": "markdown",
   "metadata": {},
   "source": [
    "We can see that sample means are not exactly 3. We can estimate how close in our sample mean with  \n",
    "true parametric mean by calculating the standard error of the mean, which is the standard deviation of the different sample means"
   ]
  },
  {
   "cell_type": "code",
   "execution_count": 13,
   "metadata": {
    "ExecuteTime": {
     "end_time": "2019-08-05T07:47:51.011801Z",
     "start_time": "2019-08-05T07:47:51.003715Z"
    }
   },
   "outputs": [
    {
     "data": {
      "text/plain": [
       "0.3669707528972911"
      ]
     },
     "execution_count": 13,
     "metadata": {},
     "output_type": "execute_result"
    }
   ],
   "source": [
    "np.std(sample_mean)"
   ]
  },
  {
   "cell_type": "code",
   "execution_count": 14,
   "metadata": {
    "ExecuteTime": {
     "end_time": "2019-08-05T07:47:51.706822Z",
     "start_time": "2019-08-05T07:47:51.699256Z"
    }
   },
   "outputs": [
    {
     "data": {
      "text/plain": [
       "0.5581515748182767"
      ]
     },
     "execution_count": 14,
     "metadata": {},
     "output_type": "execute_result"
    }
   ],
   "source": [
    " # When we don't have enough samples to estiamte SEM, we can estimate SEM from single samples with formula \n",
    "random_one = random.sample(data, 5)\n",
    "standard_deviation = np.std(random_one)\n",
    "SEM = standard_deviation/np.sqrt(5)\n",
    "SEM"
   ]
  },
  {
   "cell_type": "code",
   "execution_count": null,
   "metadata": {},
   "outputs": [],
   "source": []
  },
  {
   "cell_type": "code",
   "execution_count": null,
   "metadata": {},
   "outputs": [],
   "source": []
  }
 ],
 "metadata": {
  "kernelspec": {
   "display_name": "Python 3",
   "language": "python",
   "name": "python3"
  },
  "language_info": {
   "codemirror_mode": {
    "name": "ipython",
    "version": 3
   },
   "file_extension": ".py",
   "mimetype": "text/x-python",
   "name": "python",
   "nbconvert_exporter": "python",
   "pygments_lexer": "ipython3",
   "version": "3.7.3"
  },
  "toc": {
   "base_numbering": 1,
   "nav_menu": {},
   "number_sections": true,
   "sideBar": true,
   "skip_h1_title": false,
   "title_cell": "Table of Contents",
   "title_sidebar": "Contents",
   "toc_cell": false,
   "toc_position": {},
   "toc_section_display": true,
   "toc_window_display": false
  },
  "varInspector": {
   "cols": {
    "lenName": 16,
    "lenType": 16,
    "lenVar": 40
   },
   "kernels_config": {
    "python": {
     "delete_cmd_postfix": "",
     "delete_cmd_prefix": "del ",
     "library": "var_list.py",
     "varRefreshCmd": "print(var_dic_list())"
    },
    "r": {
     "delete_cmd_postfix": ") ",
     "delete_cmd_prefix": "rm(",
     "library": "var_list.r",
     "varRefreshCmd": "cat(var_dic_list()) "
    }
   },
   "types_to_exclude": [
    "module",
    "function",
    "builtin_function_or_method",
    "instance",
    "_Feature"
   ],
   "window_display": false
  }
 },
 "nbformat": 4,
 "nbformat_minor": 2
}
